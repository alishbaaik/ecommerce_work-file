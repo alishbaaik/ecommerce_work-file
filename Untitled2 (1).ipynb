{
  "nbformat": 4,
  "nbformat_minor": 0,
  "metadata": {
    "colab": {
      "provenance": []
    },
    "kernelspec": {
      "name": "python3",
      "display_name": "Python 3"
    },
    "language_info": {
      "name": "python"
    }
  },
  "cells": [
    {
      "cell_type": "code",
      "execution_count": 20,
      "metadata": {
        "colab": {
          "base_uri": "https://localhost:8080/",
          "height": 106
        },
        "id": "LvfSnqLSiOys",
        "outputId": "1dcf9a15-11cf-4dee-f209-bb83956e9dfb"
      },
      "outputs": [
        {
          "output_type": "error",
          "ename": "IndentationError",
          "evalue": "unindent does not match any outer indentation level (<tokenize>, line 23)",
          "traceback": [
            "\u001b[0;36m  File \u001b[0;32m\"<tokenize>\"\u001b[0;36m, line \u001b[0;32m23\u001b[0m\n\u001b[0;31m    elif category_choice==2:\u001b[0m\n\u001b[0m    ^\u001b[0m\n\u001b[0;31mIndentationError\u001b[0m\u001b[0;31m:\u001b[0m unindent does not match any outer indentation level\n"
          ]
        }
      ],
      "source": [
        "\n",
        "\n"
      ]
    },
    {
      "cell_type": "code",
      "source": [],
      "metadata": {
        "id": "75YdPguZqeG5"
      },
      "execution_count": null,
      "outputs": []
    },
    {
      "cell_type": "code",
      "source": [
        "def ecommerce_store():\n",
        "    print(\"Welcome to our ecommerce store\")\n",
        "    print(\"\\nCategories: \")\n",
        "    print(\"1: Electronics\")\n",
        "    print(\"2: Clothing\")\n",
        "    print(\"3: Books\")\n",
        "\n",
        "    while True:\n",
        "        try:\n",
        "            category_choice = int(input(\"Enter a choice (1-3): \"))\n",
        "            if 1 <= category_choice <= 3:\n",
        "                break\n",
        "            else:\n",
        "                print(\"Invalid input. Please enter a number between 1 and 3.\")\n",
        "        except ValueError:\n",
        "            print(\"Invalid input. Please enter a number.\")\n",
        "\n",
        "    if category_choice == 1:\n",
        "        print(\"\\nElectronics:\")\n",
        "        print(\"1. Smartphone - $500\")\n",
        "        print(\"2. Laptop - $1000\")\n",
        "        print(\"3. Headphones - $150\")\n",
        "        print(\"4. Smartwatch - $250\")\n",
        "        print(\"5. Camera - $700\")\n",
        "        prices = [500, 1000, 150, 250, 700]\n",
        "    elif category_choice == 2:\n",
        "        print(\"\\nClothing:\")\n",
        "        print(\"1. T-Shirt - $20\")\n",
        "        print(\"2. Jeans - $40\")\n",
        "        print(\"3. Jacket - $80\")\n",
        "        print(\"4. Shoes - $60\")\n",
        "        print(\"5. Dress - $50\")\n",
        "        prices = [20, 40, 80, 60, 50]\n",
        "    else:  # category_choice == 3\n",
        "        print(\"\\nBooks:\")\n",
        "        print(\"1. Novel - $15\")\n",
        "        print(\"2. Textbook - $30\")\n",
        "        print(\"3. Comic Book - $10\")\n",
        "        print(\"4. Biography - $25\")\n",
        "        print(\"5. Cookbook - $20\")\n",
        "        prices = [15, 30, 10, 25, 20]\n",
        "\n",
        "    while True:\n",
        "        try:\n",
        "            item_choice = int(input(\"Enter a product (1-5): \"))\n",
        "            if 1 <= item_choice <= 5:\n",
        "                break\n",
        "            else:\n",
        "                print(\"Invalid item choice. Please enter a number between 1 and 5.\")\n",
        "        except ValueError:\n",
        "            print(\"Invalid input. Please enter a number.\")\n",
        "\n",
        "    item_price = prices[item_choice - 1]\n",
        "    print(f\"\\nItem price: ${item_price}\")\n",
        "\n",
        "    checkout_choice = input(\"\\nCheckout? (yes/no): \").lower()\n",
        "    if checkout_choice == \"yes\":\n",
        "        print(f\"\\nThank you for your purchase! Your total is ${item_price}.\")\n",
        "    else:\n",
        "        print(\"\\nYour item has been removed from the cart.\")\n",
        "\n",
        "ecommerce_store()\n",
        "\n"
      ],
      "metadata": {
        "colab": {
          "base_uri": "https://localhost:8080/"
        },
        "id": "cK_Weht4nCF9",
        "outputId": "61b8276b-b6d9-48e0-e388-b2ed51b0c75e"
      },
      "execution_count": 21,
      "outputs": [
        {
          "output_type": "stream",
          "name": "stdout",
          "text": [
            "Welcome to our ecommerce store\n",
            "\n",
            "Categories: \n",
            "1: Electronics\n",
            "2: Clothing\n",
            "3: Books\n",
            "Enter a choice (1-3): 3\n",
            "\n",
            "Books:\n",
            "1. Novel - $15\n",
            "2. Textbook - $30\n",
            "3. Comic Book - $10\n",
            "4. Biography - $25\n",
            "5. Cookbook - $20\n",
            "Enter a product (1-5): 5\n",
            "\n",
            "Item price: $20\n",
            "\n",
            "Checkout? (yes/no): yes\n",
            "\n",
            "Thank you for your purchase! Your total is $20.\n"
          ]
        }
      ]
    }
  ]
}